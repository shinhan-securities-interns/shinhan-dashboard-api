{
 "cells": [
  {
   "cell_type": "code",
   "execution_count": 1,
   "metadata": {
    "colab": {
     "base_uri": "https://localhost:8080/"
    },
    "executionInfo": {
     "elapsed": 13798,
     "status": "ok",
     "timestamp": 1700272165080,
     "user": {
      "displayName": "민상은",
      "userId": "16813424805463240098"
     },
     "user_tz": -540
    },
    "id": "Nd7NlpnOjmSP",
    "outputId": "7306d0f6-fc41-4f73-a78a-02aaf21bfcfc"
   },
   "outputs": [
    {
     "name": "stdout",
     "output_type": "stream",
     "text": [
      "Requirement already satisfied: finance-datareader in c:\\users\\grace\\appdata\\local\\programs\\python\\python310\\lib\\site-packages (0.9.62)\n",
      "Requirement already satisfied: pandas>=0.19.2 in c:\\users\\grace\\appdata\\local\\programs\\python\\python310\\lib\\site-packages (from finance-datareader) (1.5.3)\n",
      "Requirement already satisfied: requests>=2.3.0 in c:\\users\\grace\\appdata\\roaming\\python\\python310\\site-packages (from finance-datareader) (2.26.0)\n",
      "Requirement already satisfied: requests-file in c:\\users\\grace\\appdata\\local\\programs\\python\\python310\\lib\\site-packages (from finance-datareader) (1.5.1)\n",
      "Requirement already satisfied: lxml in c:\\users\\grace\\appdata\\local\\programs\\python\\python310\\lib\\site-packages (from finance-datareader) (4.9.3)\n",
      "Requirement already satisfied: tqdm in c:\\users\\grace\\appdata\\local\\programs\\python\\python310\\lib\\site-packages (from finance-datareader) (4.66.1)\n",
      "Requirement already satisfied: python-dateutil>=2.8.1 in c:\\users\\grace\\appdata\\roaming\\python\\python310\\site-packages (from pandas>=0.19.2->finance-datareader) (2.8.2)\n",
      "Requirement already satisfied: pytz>=2020.1 in c:\\users\\grace\\appdata\\local\\programs\\python\\python310\\lib\\site-packages (from pandas>=0.19.2->finance-datareader) (2022.7.1)\n",
      "Requirement already satisfied: numpy>=1.21.0 in c:\\users\\grace\\appdata\\local\\programs\\python\\python310\\lib\\site-packages (from pandas>=0.19.2->finance-datareader) (1.23.5)\n",
      "Requirement already satisfied: urllib3<1.27,>=1.21.1 in c:\\users\\grace\\appdata\\roaming\\python\\python310\\site-packages (from requests>=2.3.0->finance-datareader) (1.26.9)\n",
      "Requirement already satisfied: certifi>=2017.4.17 in c:\\users\\grace\\appdata\\roaming\\python\\python310\\site-packages (from requests>=2.3.0->finance-datareader) (2022.5.18.1)\n",
      "Requirement already satisfied: charset-normalizer~=2.0.0 in c:\\users\\grace\\appdata\\roaming\\python\\python310\\site-packages (from requests>=2.3.0->finance-datareader) (2.0.12)\n",
      "Requirement already satisfied: idna<4,>=2.5 in c:\\users\\grace\\appdata\\roaming\\python\\python310\\site-packages (from requests>=2.3.0->finance-datareader) (3.3)\n",
      "Requirement already satisfied: six in c:\\users\\grace\\appdata\\roaming\\python\\python310\\site-packages (from requests-file->finance-datareader) (1.14.0)\n",
      "Requirement already satisfied: colorama in c:\\users\\grace\\appdata\\roaming\\python\\python310\\site-packages (from tqdm->finance-datareader) (0.4.3)\n"
     ]
    },
    {
     "name": "stderr",
     "output_type": "stream",
     "text": [
      "WARNING: Ignoring invalid distribution -lflow (c:\\users\\grace\\appdata\\local\\programs\\python\\python310\\lib\\site-packages)\n",
      "WARNING: Ignoring invalid distribution -lflow (c:\\users\\grace\\appdata\\local\\programs\\python\\python310\\lib\\site-packages)\n"
     ]
    }
   ],
   "source": [
    "!pip install finance-datareader"
   ]
  },
  {
   "cell_type": "code",
   "execution_count": 3,
   "metadata": {},
   "outputs": [
    {
     "name": "stdout",
     "output_type": "stream",
     "text": [
      "Requirement already satisfied: keras in c:\\users\\grace\\appdata\\local\\programs\\python\\python310\\lib\\site-packages (2.12.0)\n"
     ]
    },
    {
     "name": "stderr",
     "output_type": "stream",
     "text": [
      "WARNING: Ignoring invalid distribution -lflow (c:\\users\\grace\\appdata\\local\\programs\\python\\python310\\lib\\site-packages)\n",
      "WARNING: Ignoring invalid distribution -lflow (c:\\users\\grace\\appdata\\local\\programs\\python\\python310\\lib\\site-packages)\n"
     ]
    }
   ],
   "source": [
    "#!pip install xgboost\n",
    "#!pip install tensorflow\n",
    "#!pip install keras"
   ]
  },
  {
   "cell_type": "markdown",
   "metadata": {
    "id": "5z7z7XXC8lXY"
   },
   "source": [
    "### 라이브러리 로딩"
   ]
  },
  {
   "cell_type": "code",
   "execution_count": 4,
   "metadata": {
    "id": "h6Dfnz7Y8kbY"
   },
   "outputs": [],
   "source": [
    "# 필요한 부분 import\n",
    "import pandas as pd\n",
    "import numpy as np\n",
    "import matplotlib.pyplot as plt\n",
    "import seaborn as sns\n",
    "import warnings\n",
    "import os\n",
    "import FinanceDataReader as fdr\n",
    "\n",
    "from sklearn.preprocessing import MinMaxScaler\n",
    "from sklearn.model_selection import train_test_split\n",
    "from sklearn.metrics import *\n",
    "\n",
    "# DL\n",
    "import tensorflow as tf\n",
    "\n",
    "# ML\n",
    "from sklearn.model_selection import GridSearchCV\n",
    "from xgboost import XGBRegressor\n",
    "\n",
    "\n",
    "from keras.models import Sequential\n",
    "from keras.layers import Conv1D,LSTM, Dense\n",
    "from keras.backend import clear_session\n",
    "from keras.optimizers import Adam\n",
    "\n",
    "from tensorflow.keras.losses import Huber\n",
    "from tensorflow.keras.callbacks import EarlyStopping, ModelCheckpoint\n",
    "\n",
    "import mlflow\n",
    "import mlflow.keras\n",
    "\n",
    "%matplotlib inline\n",
    "warnings.filterwarnings('ignore')\n",
    "\n",
    "plt.rcParams['font.family'] = 'NanumGothic'\n",
    "\n"
   ]
  },
  {
   "cell_type": "markdown",
   "metadata": {
    "id": "dFzoccQX8_QT"
   },
   "source": [
    "### 함수 만들기"
   ]
  },
  {
   "cell_type": "code",
   "execution_count": 6,
   "metadata": {
    "id": "CAIuI4S99B5C"
   },
   "outputs": [],
   "source": [
    "# TensorFlow Dataset을 활용한 시퀸스 데이터셋 구성\n",
    "def windowed_dataset(series, window_size, batch_size, shuffle):\n",
    "    series = tf.expand_dims(series, axis=-1)\n",
    "    ds = tf.data.Dataset.from_tensor_slices(series)\n",
    "    ds = ds.window(window_size + 1, shift=1, drop_remainder=True)\n",
    "    ds = ds.flat_map(lambda w: w.batch(window_size + 1))\n",
    "    if shuffle:\n",
    "        ds = ds.shuffle(1000)\n",
    "    ds = ds.map(lambda w: (w[:-1], w[-1]))\n",
    "    return ds.batch(batch_size).prefetch(1)\n",
    "\n",
    "# 학습곡선 함수\n",
    "def dl_history_plot(history):\n",
    "    plt.figure(figsize=(10,6))\n",
    "    plt.plot(history['loss'], label='train_err', marker = '.')\n",
    "    plt.plot(history['val_loss'], label='val_err', marker = '.')\n",
    "\n",
    "    plt.ylabel('Loss')\n",
    "    plt.xlabel('Epoch')\n",
    "    plt.legend()\n",
    "    plt.grid()\n",
    "    plt.show()"
   ]
  },
  {
   "cell_type": "markdown",
   "metadata": {
    "id": "WasF3sek9Stg"
   },
   "source": [
    "## mlflow 추적 준비\n",
    "\n",
    "- SQLite에 기록\n",
    "  - mlflow.db가 생성됨"
   ]
  },
  {
   "cell_type": "code",
   "execution_count": 7,
   "metadata": {
    "id": "V982TZW59VJ7"
   },
   "outputs": [],
   "source": [
    "mlflow_uri = \"sqlite:///mlflow.db\"\n",
    "mlflow.set_tracking_uri(mlflow_uri)"
   ]
  },
  {
   "cell_type": "markdown",
   "metadata": {
    "id": "DtjiWKHm6cYM"
   },
   "source": [
    "### 실험 생성"
   ]
  },
  {
   "cell_type": "code",
   "execution_count": 8,
   "metadata": {
    "id": "aQj09U_K6fWA"
   },
   "outputs": [
    {
     "name": "stderr",
     "output_type": "stream",
     "text": [
      "2023/11/20 07:57:02 INFO mlflow.store.db.utils: Creating initial MLflow database tables...\n",
      "2023/11/20 07:57:02 INFO mlflow.store.db.utils: Updating database tables\n",
      "INFO  [alembic.runtime.migration] Context impl SQLiteImpl.\n",
      "INFO  [alembic.runtime.migration] Will assume non-transactional DDL.\n",
      "INFO  [alembic.runtime.migration] Running upgrade  -> 451aebb31d03, add metric step\n",
      "INFO  [alembic.runtime.migration] Running upgrade 451aebb31d03 -> 90e64c465722, migrate user column to tags\n",
      "INFO  [alembic.runtime.migration] Running upgrade 90e64c465722 -> 181f10493468, allow nulls for metric values\n",
      "INFO  [alembic.runtime.migration] Running upgrade 181f10493468 -> df50e92ffc5e, Add Experiment Tags Table\n",
      "INFO  [alembic.runtime.migration] Running upgrade df50e92ffc5e -> 7ac759974ad8, Update run tags with larger limit\n",
      "INFO  [alembic.runtime.migration] Running upgrade 7ac759974ad8 -> 89d4b8295536, create latest metrics table\n",
      "INFO  [89d4b8295536_create_latest_metrics_table_py] Migration complete!\n",
      "INFO  [alembic.runtime.migration] Running upgrade 89d4b8295536 -> 2b4d017a5e9b, add model registry tables to db\n",
      "INFO  [2b4d017a5e9b_add_model_registry_tables_to_db_py] Adding registered_models and model_versions tables to database.\n",
      "INFO  [2b4d017a5e9b_add_model_registry_tables_to_db_py] Migration complete!\n",
      "INFO  [alembic.runtime.migration] Running upgrade 2b4d017a5e9b -> cfd24bdc0731, Update run status constraint with killed\n",
      "INFO  [alembic.runtime.migration] Running upgrade cfd24bdc0731 -> 0a8213491aaa, drop_duplicate_killed_constraint\n",
      "INFO  [alembic.runtime.migration] Running upgrade 0a8213491aaa -> 728d730b5ebd, add registered model tags table\n",
      "INFO  [alembic.runtime.migration] Running upgrade 728d730b5ebd -> 27a6a02d2cf1, add model version tags table\n",
      "INFO  [alembic.runtime.migration] Running upgrade 27a6a02d2cf1 -> 84291f40a231, add run_link to model_version\n",
      "INFO  [alembic.runtime.migration] Running upgrade 84291f40a231 -> a8c4a736bde6, allow nulls for run_id\n",
      "INFO  [alembic.runtime.migration] Running upgrade a8c4a736bde6 -> 39d1c3be5f05, add_is_nan_constraint_for_metrics_tables_if_necessary\n",
      "INFO  [alembic.runtime.migration] Running upgrade 39d1c3be5f05 -> c48cb773bb87, reset_default_value_for_is_nan_in_metrics_table_for_mysql\n",
      "INFO  [alembic.runtime.migration] Running upgrade c48cb773bb87 -> bd07f7e963c5, create index on run_uuid\n",
      "INFO  [alembic.runtime.migration] Running upgrade bd07f7e963c5 -> 0c779009ac13, add deleted_time field to runs table\n",
      "INFO  [alembic.runtime.migration] Running upgrade 0c779009ac13 -> cc1f77228345, change param value length to 500\n",
      "INFO  [alembic.runtime.migration] Running upgrade cc1f77228345 -> 97727af70f4d, Add creation_time and last_update_time to experiments table\n",
      "INFO  [alembic.runtime.migration] Running upgrade 97727af70f4d -> 3500859a5d39, Add Model Aliases table\n",
      "INFO  [alembic.runtime.migration] Context impl SQLiteImpl.\n",
      "INFO  [alembic.runtime.migration] Will assume non-transactional DDL.\n"
     ]
    },
    {
     "data": {
      "text/plain": [
       "'1'"
      ]
     },
     "execution_count": 8,
     "metadata": {},
     "output_type": "execute_result"
    }
   ],
   "source": [
    "exp_id = mlflow.create_experiment(\"stock_prediction\")\n",
    "exp_id"
   ]
  },
  {
   "cell_type": "markdown",
   "metadata": {
    "id": "SItmDVSW9dAc"
   },
   "source": [
    "### 모델링 & Tracking"
   ]
  },
  {
   "cell_type": "code",
   "execution_count": 22,
   "metadata": {},
   "outputs": [],
   "source": [
    "stock_code = 'KS11'"
   ]
  },
  {
   "cell_type": "code",
   "execution_count": 45,
   "metadata": {},
   "outputs": [],
   "source": [
    "stock_code = 'KS11'\n",
    "def preprocess_data(stock_code, window_size=20, batch_size=32):\n",
    "    # 데이터 수집 및 전처리를 위한 stock_code, window_size, batch_size 인수 사용\n",
    "    STOCK_CODE = stock_code\n",
    "    WINDOW_SIZE = window_size\n",
    "    BATCH_SIZE = batch_size\n",
    "    \n",
    "    stock = fdr.DataReader(STOCK_CODE, '2013')\n",
    "    # stock['Year'] = stock.index.year\n",
    "    # stock['Month'] = stock.index.month\n",
    "    # stock['Day'] = stock.index.day\n",
    "\n",
    "    scaler = MinMaxScaler()\n",
    "    scale_cols = ['Open', 'High', 'Low', 'Close', 'Volume']\n",
    "    scaled = scaler.fit_transform(stock[scale_cols])\n",
    "    df = pd.DataFrame(scaled, columns=scale_cols)\n",
    "\n",
    "    x_train, x_test, y_train, y_test = train_test_split(df.drop(columns=['Close']), df['Close'], test_size=0.2, random_state=20, shuffle=False)\n",
    "\n",
    "    train_data = windowed_dataset(y_train, WINDOW_SIZE, BATCH_SIZE, True)\n",
    "    test_data = windowed_dataset(y_test, WINDOW_SIZE, BATCH_SIZE, False)\n",
    "\n",
    "    return train_data, test_data"
   ]
  },
  {
   "cell_type": "markdown",
   "source": [
    "* 평가지표"
   ],
   "metadata": {
    "collapsed": false
   }
  },
  {
   "cell_type": "code",
   "execution_count": null,
   "outputs": [],
   "source": [
    "# from sklearn.metrics import mean_squared_error, mean_absolute_error, r2_score\n",
    "# from sklearn.metrics import mean_absolute_percentage_error\n",
    "# from math import sqrt"
   ],
   "metadata": {
    "collapsed": false
   }
  },
  {
   "cell_type": "markdown",
   "metadata": {},
   "source": [
    "### 첫번째 모델"
   ]
  },
  {
   "cell_type": "code",
   "execution_count": 46,
   "metadata": {
    "colab": {
     "base_uri": "https://localhost:8080/"
    },
    "executionInfo": {
     "elapsed": 2645,
     "status": "ok",
     "timestamp": 1700272304999,
     "user": {
      "displayName": "민상은",
      "userId": "16813424805463240098"
     },
     "user_tz": -540
    },
    "id": "k7i_vxGUjX8Q",
    "outputId": "bcbe0c50-d1d7-431e-b43a-e1694e3ccef6"
   },
   "outputs": [
    {
     "name": "stdout",
     "output_type": "stream",
     "text": [
      "Epoch 1/50\n",
      "67/67 [==============================] - 7s 60ms/step - loss: 0.0062 - val_loss: 3.9280e-04\n",
      "Epoch 2/50\n",
      "67/67 [==============================] - 2s 31ms/step - loss: 2.5108e-04 - val_loss: 3.9680e-04\n",
      "Epoch 3/50\n",
      "67/67 [==============================] - 1s 17ms/step - loss: 2.3530e-04 - val_loss: 4.8104e-04\n",
      "Epoch 4/50\n",
      "67/67 [==============================] - 1s 11ms/step - loss: 2.3600e-04 - val_loss: 3.5291e-04\n",
      "Epoch 5/50\n",
      "67/67 [==============================] - 1s 12ms/step - loss: 2.2603e-04 - val_loss: 3.4255e-04\n",
      "Epoch 6/50\n",
      "67/67 [==============================] - 1s 11ms/step - loss: 2.1619e-04 - val_loss: 4.6173e-04\n",
      "Epoch 7/50\n",
      "67/67 [==============================] - 1s 19ms/step - loss: 2.0644e-04 - val_loss: 3.7047e-04\n",
      "Epoch 8/50\n",
      "67/67 [==============================] - 1s 11ms/step - loss: 2.0558e-04 - val_loss: 3.1519e-04\n",
      "Epoch 9/50\n",
      "67/67 [==============================] - 1s 15ms/step - loss: 1.9111e-04 - val_loss: 2.9929e-04\n",
      "Epoch 10/50\n",
      "67/67 [==============================] - 1s 14ms/step - loss: 1.8280e-04 - val_loss: 2.7465e-04\n",
      "Epoch 11/50\n",
      "67/67 [==============================] - 1s 14ms/step - loss: 1.7768e-04 - val_loss: 2.6191e-04\n",
      "Epoch 12/50\n",
      "67/67 [==============================] - 1s 11ms/step - loss: 1.8803e-04 - val_loss: 2.5613e-04\n",
      "Epoch 13/50\n",
      "67/67 [==============================] - 1s 12ms/step - loss: 1.7318e-04 - val_loss: 2.4916e-04\n",
      "Epoch 14/50\n",
      "67/67 [==============================] - 2s 21ms/step - loss: 1.7212e-04 - val_loss: 2.8349e-04\n",
      "Epoch 15/50\n",
      "67/67 [==============================] - 1s 14ms/step - loss: 1.6044e-04 - val_loss: 3.1157e-04\n",
      "Epoch 16/50\n",
      "67/67 [==============================] - 1s 16ms/step - loss: 1.5512e-04 - val_loss: 2.3946e-04\n",
      "Epoch 17/50\n",
      "67/67 [==============================] - 1s 11ms/step - loss: 1.5820e-04 - val_loss: 2.1643e-04\n",
      "Epoch 18/50\n",
      "67/67 [==============================] - 1s 13ms/step - loss: 1.5030e-04 - val_loss: 3.9923e-04\n",
      "Epoch 19/50\n",
      "67/67 [==============================] - 1s 12ms/step - loss: 1.5184e-04 - val_loss: 2.1831e-04\n",
      "Epoch 20/50\n",
      "67/67 [==============================] - 1s 14ms/step - loss: 1.3604e-04 - val_loss: 2.2445e-04\n",
      "Epoch 21/50\n",
      "67/67 [==============================] - 1s 14ms/step - loss: 1.2837e-04 - val_loss: 2.0640e-04\n",
      "Epoch 22/50\n",
      "67/67 [==============================] - 1s 15ms/step - loss: 1.3971e-04 - val_loss: 2.4378e-04\n",
      "Epoch 23/50\n",
      "67/67 [==============================] - 1s 11ms/step - loss: 1.2409e-04 - val_loss: 1.9342e-04\n",
      "Epoch 24/50\n",
      "67/67 [==============================] - 1s 13ms/step - loss: 1.1579e-04 - val_loss: 1.9176e-04\n",
      "Epoch 25/50\n",
      "67/67 [==============================] - 1s 11ms/step - loss: 1.1981e-04 - val_loss: 2.1556e-04\n",
      "Epoch 26/50\n",
      "67/67 [==============================] - 1s 14ms/step - loss: 1.1191e-04 - val_loss: 2.4514e-04\n",
      "Epoch 27/50\n",
      "67/67 [==============================] - 1s 13ms/step - loss: 1.1160e-04 - val_loss: 1.7962e-04\n",
      "Epoch 28/50\n",
      "67/67 [==============================] - 1s 13ms/step - loss: 1.1155e-04 - val_loss: 1.7384e-04\n",
      "Epoch 29/50\n",
      "67/67 [==============================] - 1s 13ms/step - loss: 1.0542e-04 - val_loss: 1.8315e-04\n",
      "Epoch 30/50\n",
      "67/67 [==============================] - 1s 13ms/step - loss: 1.2152e-04 - val_loss: 1.7277e-04\n",
      "Epoch 31/50\n",
      "67/67 [==============================] - 1s 11ms/step - loss: 1.1963e-04 - val_loss: 4.5298e-04\n",
      "Epoch 32/50\n",
      "67/67 [==============================] - 1s 13ms/step - loss: 1.1089e-04 - val_loss: 2.5431e-04\n",
      "Epoch 33/50\n",
      "67/67 [==============================] - 1s 12ms/step - loss: 1.0350e-04 - val_loss: 1.7673e-04\n",
      "Epoch 34/50\n",
      "67/67 [==============================] - 1s 15ms/step - loss: 1.0262e-04 - val_loss: 1.5867e-04\n",
      "Epoch 35/50\n",
      "67/67 [==============================] - 1s 13ms/step - loss: 1.1244e-04 - val_loss: 2.2519e-04\n",
      "Epoch 36/50\n",
      "67/67 [==============================] - 1s 14ms/step - loss: 1.0478e-04 - val_loss: 1.7187e-04\n",
      "Epoch 37/50\n",
      "67/67 [==============================] - 1s 13ms/step - loss: 1.0413e-04 - val_loss: 3.0987e-04\n",
      "Epoch 38/50\n",
      "67/67 [==============================] - 1s 15ms/step - loss: 1.0268e-04 - val_loss: 1.9826e-04\n",
      "Epoch 39/50\n",
      "67/67 [==============================] - 1s 11ms/step - loss: 9.3689e-05 - val_loss: 1.5697e-04\n",
      "Epoch 40/50\n",
      "67/67 [==============================] - 1s 14ms/step - loss: 1.0356e-04 - val_loss: 3.4630e-04\n",
      "Epoch 41/50\n",
      "67/67 [==============================] - 1s 11ms/step - loss: 1.1238e-04 - val_loss: 1.7086e-04\n",
      "Epoch 42/50\n",
      "67/67 [==============================] - 1s 13ms/step - loss: 1.0593e-04 - val_loss: 2.2460e-04\n",
      "Epoch 43/50\n",
      "67/67 [==============================] - 1s 13ms/step - loss: 1.0648e-04 - val_loss: 2.1843e-04\n",
      "Epoch 44/50\n",
      "67/67 [==============================] - 1s 13ms/step - loss: 9.7508e-05 - val_loss: 1.6793e-04\n",
      "Epoch 45/50\n",
      "67/67 [==============================] - 1s 16ms/step - loss: 9.7587e-05 - val_loss: 1.6163e-04\n",
      "Epoch 46/50\n",
      "67/67 [==============================] - 1s 13ms/step - loss: 9.2441e-05 - val_loss: 1.7118e-04\n",
      "Epoch 47/50\n",
      "67/67 [==============================] - 1s 14ms/step - loss: 9.1557e-05 - val_loss: 1.5181e-04\n",
      "Epoch 48/50\n",
      "67/67 [==============================] - 1s 13ms/step - loss: 9.1101e-05 - val_loss: 1.6023e-04\n",
      "Epoch 49/50\n",
      "67/67 [==============================] - 1s 16ms/step - loss: 1.0083e-04 - val_loss: 1.9552e-04\n",
      "Epoch 50/50\n",
      "67/67 [==============================] - 1s 13ms/step - loss: 9.1771e-05 - val_loss: 1.6109e-04\n",
      "WARNING:tensorflow:5 out of the last 5 calls to <function Model.make_predict_function.<locals>.predict_function at 0x0000013EDB6CB490> triggered tf.function retracing. Tracing is expensive and the excessive number of tracings could be due to (1) creating @tf.function repeatedly in a loop, (2) passing tensors with different shapes, (3) passing Python objects instead of tensors. For (1), please define your @tf.function outside of the loop. For (2), @tf.function has reduce_retracing=True option that can avoid unnecessary retracing. For (3), please refer to https://www.tensorflow.org/guide/function#controlling_retracing and https://www.tensorflow.org/api_docs/python/tf/function for  more details.\n"
     ]
    },
    {
     "name": "stderr",
     "output_type": "stream",
     "text": [
      "WARNI [tensorflow] 5 out of the last 5 calls to <function Model.make_predict_function.<locals>.predict_function at 0x0000013EDB6CB490> triggered tf.function retracing. Tracing is expensive and the excessive number of tracings could be due to (1) creating @tf.function repeatedly in a loop, (2) passing tensors with different shapes, (3) passing Python objects instead of tensors. For (1), please define your @tf.function outside of the loop. For (2), @tf.function has reduce_retracing=True option that can avoid unnecessary retracing. For (3), please refer to https://www.tensorflow.org/guide/function#controlling_retracing and https://www.tensorflow.org/api_docs/python/tf/function for  more details.\n"
     ]
    },
    {
     "name": "stdout",
     "output_type": "stream",
     "text": [
      "1/1 [==============================] - 1s 512ms/step\n"
     ]
    },
    {
     "name": "stderr",
     "output_type": "stream",
     "text": [
      "WARNI [absl] Found untraced functions such as _jit_compiled_convolution_op, lstm_cell_4_layer_call_fn, lstm_cell_4_layer_call_and_return_conditional_losses while saving (showing 3 of 3). These functions will not be directly callable after loading.\n"
     ]
    },
    {
     "name": "stdout",
     "output_type": "stream",
     "text": [
      "INFO:tensorflow:Assets written to: C:\\Users\\grace\\AppData\\Local\\Temp\\tmpeggno8ru\\model\\data\\model\\assets\n"
     ]
    },
    {
     "name": "stderr",
     "output_type": "stream",
     "text": [
      "INFO  [tensorflow] Assets written to: C:\\Users\\grace\\AppData\\Local\\Temp\\tmpeggno8ru\\model\\data\\model\\assets\n",
      "2023/11/20 09:15:20 WARNING mlflow.tensorflow: You are saving a TensorFlow Core model or Keras model without a signature. Inference with mlflow.pyfunc.spark_udf() will not work unless the model's pyfunc representation accepts pandas DataFrames as inference inputs.\n",
      "WARNI [absl] Found untraced functions such as _jit_compiled_convolution_op, lstm_cell_4_layer_call_fn, lstm_cell_4_layer_call_and_return_conditional_losses while saving (showing 3 of 3). These functions will not be directly callable after loading.\n"
     ]
    },
    {
     "name": "stdout",
     "output_type": "stream",
     "text": [
      "INFO:tensorflow:Assets written to: C:\\Users\\grace\\AppData\\Local\\Temp\\tmp28vb6rgw\\model\\data\\model\\assets\n"
     ]
    },
    {
     "name": "stderr",
     "output_type": "stream",
     "text": [
      "INFO  [tensorflow] Assets written to: C:\\Users\\grace\\AppData\\Local\\Temp\\tmp28vb6rgw\\model\\data\\model\\assets\n",
      "Registered model 'stock_prediction' already exists. Creating a new version of this model...\n",
      "2023/11/20 09:15:42 INFO mlflow.tracking._model_registry.client: Waiting up to 300 seconds for model version to finish creation. Model name: stock_prediction, version 3\n",
      "Created version '3' of model 'stock_prediction'.\n"
     ]
    }
   ],
   "source": [
    "stock_code = 'KS11'\n",
    "#첫번째 모델\n",
    "with mlflow.start_run(experiment_id=exp_id, run_name=f'{stock_code}_dl_autolog'):\n",
    "    mlflow.keras.autolog()\n",
    "\n",
    "    # Preprocess the data using the provided stock code\n",
    "    WINDOW_SIZE = 20\n",
    "    BATCH_SIZE = 32\n",
    "    train_data, test_data = preprocess_data(stock_code, WINDOW_SIZE, BATCH_SIZE)\n",
    "\n",
    "    # Model design and compilation\n",
    "    model = Sequential([\n",
    "        Conv1D(filters=64, kernel_size=10, padding=\"same\", activation=\"relu\", input_shape=[WINDOW_SIZE, 1]),\n",
    "        LSTM(16, activation='tanh'),\n",
    "        Dense(16, activation=\"relu\"),\n",
    "        Dense(1)\n",
    "    ])\n",
    "    model.compile(loss=Huber(), optimizer=Adam(0.0005))\n",
    "\n",
    "    # Early stopping\n",
    "    early_stopping = EarlyStopping(monitor='val_loss', patience=10)\n",
    "\n",
    "    # Training\n",
    "    history = model.fit(train_data, validation_data=test_data, epochs=50, callbacks=[early_stopping]).history\n",
    "\n",
    "    # Log the model\n",
    "    mlflow.keras.log_model(model, \"model\", registered_model_name= \"stock_prediction\")\n",
    "\n",
    "    # Disable autolog\n",
    "    mlflow.keras.autolog(disable=True)"
   ]
  },
  {
   "cell_type": "markdown",
   "metadata": {},
   "source": [
    "### 두번째 모델"
   ]
  },
  {
   "cell_type": "code",
   "execution_count": 47,
   "metadata": {},
   "outputs": [
    {
     "name": "stdout",
     "output_type": "stream",
     "text": [
      "Epoch 1/50\n",
      "67/67 [==============================] - 4s 17ms/step - loss: 0.0079 - val_loss: 5.0791e-04\n",
      "Epoch 2/50\n",
      "67/67 [==============================] - 1s 11ms/step - loss: 2.9498e-04 - val_loss: 4.4538e-04\n",
      "Epoch 3/50\n",
      "67/67 [==============================] - 1s 12ms/step - loss: 2.7287e-04 - val_loss: 4.2082e-04\n",
      "Epoch 4/50\n",
      "67/67 [==============================] - 1s 16ms/step - loss: 2.6874e-04 - val_loss: 4.9082e-04\n",
      "Epoch 5/50\n",
      "67/67 [==============================] - 1s 19ms/step - loss: 2.4280e-04 - val_loss: 3.7239e-04\n",
      "Epoch 6/50\n",
      "67/67 [==============================] - 1s 11ms/step - loss: 2.2416e-04 - val_loss: 3.4018e-04\n",
      "Epoch 7/50\n",
      "67/67 [==============================] - 1s 13ms/step - loss: 2.2045e-04 - val_loss: 3.5945e-04\n",
      "Epoch 8/50\n",
      "67/67 [==============================] - 2s 26ms/step - loss: 2.0657e-04 - val_loss: 4.6562e-04\n",
      "Epoch 9/50\n",
      "67/67 [==============================] - 2s 28ms/step - loss: 1.7996e-04 - val_loss: 2.7452e-04\n",
      "Epoch 10/50\n",
      "67/67 [==============================] - 2s 24ms/step - loss: 1.7471e-04 - val_loss: 4.8241e-04\n",
      "Epoch 11/50\n",
      "67/67 [==============================] - 2s 32ms/step - loss: 1.6993e-04 - val_loss: 3.3169e-04\n",
      "Epoch 12/50\n",
      "67/67 [==============================] - 3s 35ms/step - loss: 1.6038e-04 - val_loss: 2.4875e-04\n",
      "Epoch 13/50\n",
      "67/67 [==============================] - 2s 30ms/step - loss: 1.6015e-04 - val_loss: 3.8333e-04\n",
      "Epoch 14/50\n",
      "67/67 [==============================] - 2s 29ms/step - loss: 1.5313e-04 - val_loss: 3.2608e-04\n",
      "Epoch 15/50\n",
      "67/67 [==============================] - 3s 33ms/step - loss: 1.4129e-04 - val_loss: 3.8524e-04\n",
      "Epoch 16/50\n",
      "67/67 [==============================] - 2s 32ms/step - loss: 1.3635e-04 - val_loss: 2.3127e-04\n",
      "Epoch 17/50\n",
      "67/67 [==============================] - 2s 28ms/step - loss: 1.3985e-04 - val_loss: 2.1963e-04\n",
      "Epoch 18/50\n",
      "67/67 [==============================] - 2s 26ms/step - loss: 1.2725e-04 - val_loss: 2.4644e-04\n",
      "Epoch 19/50\n",
      "67/67 [==============================] - 2s 28ms/step - loss: 1.2561e-04 - val_loss: 2.1651e-04\n",
      "Epoch 20/50\n",
      "67/67 [==============================] - 2s 30ms/step - loss: 1.3143e-04 - val_loss: 2.0202e-04\n",
      "Epoch 21/50\n",
      "67/67 [==============================] - 2s 30ms/step - loss: 1.3572e-04 - val_loss: 2.0950e-04\n",
      "Epoch 22/50\n",
      "67/67 [==============================] - 2s 27ms/step - loss: 1.1990e-04 - val_loss: 4.6716e-04\n",
      "Epoch 23/50\n",
      "67/67 [==============================] - 2s 30ms/step - loss: 1.2588e-04 - val_loss: 3.6567e-04\n",
      "Epoch 24/50\n",
      "67/67 [==============================] - 2s 30ms/step - loss: 1.4934e-04 - val_loss: 1.8091e-04\n",
      "Epoch 25/50\n",
      "67/67 [==============================] - 2s 27ms/step - loss: 1.1747e-04 - val_loss: 2.0584e-04\n",
      "Epoch 26/50\n",
      "67/67 [==============================] - 2s 27ms/step - loss: 1.1121e-04 - val_loss: 1.7679e-04\n",
      "Epoch 27/50\n",
      "67/67 [==============================] - 2s 26ms/step - loss: 1.1639e-04 - val_loss: 3.2107e-04\n",
      "Epoch 28/50\n",
      "67/67 [==============================] - 2s 31ms/step - loss: 1.1391e-04 - val_loss: 1.8016e-04\n",
      "Epoch 29/50\n",
      "67/67 [==============================] - 2s 28ms/step - loss: 1.1340e-04 - val_loss: 2.2195e-04\n",
      "Epoch 30/50\n",
      "67/67 [==============================] - 2s 30ms/step - loss: 1.0919e-04 - val_loss: 3.2721e-04\n",
      "Epoch 31/50\n",
      "67/67 [==============================] - 2s 32ms/step - loss: 1.1039e-04 - val_loss: 1.8124e-04\n",
      "Epoch 32/50\n",
      "67/67 [==============================] - 2s 30ms/step - loss: 1.0389e-04 - val_loss: 2.8534e-04\n",
      "Epoch 33/50\n",
      "67/67 [==============================] - 2s 32ms/step - loss: 1.0983e-04 - val_loss: 2.7550e-04\n",
      "Epoch 34/50\n",
      "67/67 [==============================] - 2s 29ms/step - loss: 1.1613e-04 - val_loss: 1.7215e-04\n",
      "Epoch 35/50\n",
      "67/67 [==============================] - 2s 29ms/step - loss: 1.0068e-04 - val_loss: 1.6676e-04\n",
      "Epoch 36/50\n",
      "67/67 [==============================] - 2s 26ms/step - loss: 9.9663e-05 - val_loss: 2.3009e-04\n",
      "Epoch 37/50\n",
      "67/67 [==============================] - 2s 31ms/step - loss: 1.0175e-04 - val_loss: 4.7484e-04\n",
      "Epoch 38/50\n",
      "67/67 [==============================] - 2s 28ms/step - loss: 1.0364e-04 - val_loss: 1.7695e-04\n",
      "Epoch 39/50\n",
      "67/67 [==============================] - 2s 30ms/step - loss: 9.3146e-05 - val_loss: 2.6209e-04\n",
      "Epoch 40/50\n",
      "67/67 [==============================] - 2s 30ms/step - loss: 1.0414e-04 - val_loss: 2.0719e-04\n",
      "Epoch 41/50\n",
      "67/67 [==============================] - 2s 28ms/step - loss: 1.1679e-04 - val_loss: 1.5970e-04\n",
      "Epoch 42/50\n",
      "67/67 [==============================] - 2s 29ms/step - loss: 9.9622e-05 - val_loss: 2.4137e-04\n",
      "Epoch 43/50\n",
      "67/67 [==============================] - 2s 29ms/step - loss: 9.6422e-05 - val_loss: 1.8754e-04\n",
      "Epoch 44/50\n",
      "67/67 [==============================] - 2s 28ms/step - loss: 1.1690e-04 - val_loss: 1.5999e-04\n",
      "Epoch 45/50\n",
      "67/67 [==============================] - 2s 29ms/step - loss: 9.3951e-05 - val_loss: 3.8653e-04\n",
      "Epoch 46/50\n",
      "67/67 [==============================] - 1s 11ms/step - loss: 9.6538e-05 - val_loss: 1.7882e-04\n",
      "Epoch 47/50\n",
      "67/67 [==============================] - 1s 15ms/step - loss: 9.2627e-05 - val_loss: 1.5960e-04\n",
      "Epoch 48/50\n",
      "67/67 [==============================] - 1s 17ms/step - loss: 9.6667e-05 - val_loss: 1.5103e-04\n",
      "Epoch 49/50\n",
      "67/67 [==============================] - 1s 14ms/step - loss: 8.7677e-05 - val_loss: 3.0654e-04\n",
      "Epoch 50/50\n",
      "67/67 [==============================] - 1s 11ms/step - loss: 1.0418e-04 - val_loss: 2.2516e-04\n",
      "WARNING:tensorflow:6 out of the last 6 calls to <function Model.make_predict_function.<locals>.predict_function at 0x0000013EE4EBD510> triggered tf.function retracing. Tracing is expensive and the excessive number of tracings could be due to (1) creating @tf.function repeatedly in a loop, (2) passing tensors with different shapes, (3) passing Python objects instead of tensors. For (1), please define your @tf.function outside of the loop. For (2), @tf.function has reduce_retracing=True option that can avoid unnecessary retracing. For (3), please refer to https://www.tensorflow.org/guide/function#controlling_retracing and https://www.tensorflow.org/api_docs/python/tf/function for  more details.\n"
     ]
    },
    {
     "name": "stderr",
     "output_type": "stream",
     "text": [
      "WARNI [tensorflow] 6 out of the last 6 calls to <function Model.make_predict_function.<locals>.predict_function at 0x0000013EE4EBD510> triggered tf.function retracing. Tracing is expensive and the excessive number of tracings could be due to (1) creating @tf.function repeatedly in a loop, (2) passing tensors with different shapes, (3) passing Python objects instead of tensors. For (1), please define your @tf.function outside of the loop. For (2), @tf.function has reduce_retracing=True option that can avoid unnecessary retracing. For (3), please refer to https://www.tensorflow.org/guide/function#controlling_retracing and https://www.tensorflow.org/api_docs/python/tf/function for  more details.\n"
     ]
    },
    {
     "name": "stdout",
     "output_type": "stream",
     "text": [
      "1/1 [==============================] - 0s 457ms/step\n"
     ]
    },
    {
     "name": "stderr",
     "output_type": "stream",
     "text": [
      "WARNI [absl] Found untraced functions such as _jit_compiled_convolution_op, lstm_cell_5_layer_call_fn, lstm_cell_5_layer_call_and_return_conditional_losses while saving (showing 3 of 3). These functions will not be directly callable after loading.\n"
     ]
    },
    {
     "name": "stdout",
     "output_type": "stream",
     "text": [
      "INFO:tensorflow:Assets written to: C:\\Users\\grace\\AppData\\Local\\Temp\\tmp29awlrwo\\model\\data\\model\\assets\n"
     ]
    },
    {
     "name": "stderr",
     "output_type": "stream",
     "text": [
      "INFO  [tensorflow] Assets written to: C:\\Users\\grace\\AppData\\Local\\Temp\\tmp29awlrwo\\model\\data\\model\\assets\n",
      "2023/11/20 09:18:02 WARNING mlflow.tensorflow: You are saving a TensorFlow Core model or Keras model without a signature. Inference with mlflow.pyfunc.spark_udf() will not work unless the model's pyfunc representation accepts pandas DataFrames as inference inputs.\n",
      "WARNI [absl] Found untraced functions such as _jit_compiled_convolution_op, lstm_cell_5_layer_call_fn, lstm_cell_5_layer_call_and_return_conditional_losses while saving (showing 3 of 3). These functions will not be directly callable after loading.\n"
     ]
    },
    {
     "name": "stdout",
     "output_type": "stream",
     "text": [
      "INFO:tensorflow:Assets written to: C:\\Users\\grace\\AppData\\Local\\Temp\\tmpcofort8p\\model\\data\\model\\assets\n"
     ]
    },
    {
     "name": "stderr",
     "output_type": "stream",
     "text": [
      "INFO  [tensorflow] Assets written to: C:\\Users\\grace\\AppData\\Local\\Temp\\tmpcofort8p\\model\\data\\model\\assets\n",
      "Registered model 'stock_prediction' already exists. Creating a new version of this model...\n",
      "2023/11/20 09:18:19 INFO mlflow.tracking._model_registry.client: Waiting up to 300 seconds for model version to finish creation. Model name: stock_prediction, version 4\n",
      "Created version '4' of model 'stock_prediction'.\n"
     ]
    }
   ],
   "source": [
    "stock_code = 'KS11'\n",
    "# 두 번째 실행   \n",
    "with mlflow.start_run(experiment_id=exp_id, run_name=f'{stock_code}_dl_autolog_2'):\n",
    "    mlflow.keras.autolog()\n",
    "\n",
    "#모델 설계 및 컴파일\n",
    "    model2 = Sequential([\n",
    "        # 1차원 feature map 생성\n",
    "        Conv1D(filters=64, kernel_size=10,\n",
    "        padding=\"same\",\n",
    "        activation=\"relu\",\n",
    "        input_shape=[WINDOW_SIZE, 1]),\n",
    "        # LSTM\n",
    "        LSTM(16, activation='tanh'),\n",
    "        Dense(16, activation=\"relu\"),\n",
    "        Dense(1) ])\n",
    "    # Sequence 학습에 비교적 좋은 퍼포먼스를 내는 Huber()를 사용합니다.\n",
    "    loss = Huber()\n",
    "    optimizer = Adam(0.0005)\n",
    "    model2.compile(loss=Huber(), optimizer= optimizer)\n",
    "    # earlystopping은 10번 epoch통안 val_loss 개선이 없다면 학습을 멈춥니다.\n",
    "    earlystopping = EarlyStopping(monitor='val_loss', patience=10)\n",
    "#학습\n",
    "    history = model2.fit(train_data,\n",
    "                    validation_data=(test_data),\n",
    "                    epochs=50,\n",
    "                    callbacks=[earlystopping]).history\n",
    "#모델 등록 (best 모델 기록하기)\n",
    "    mlflow.keras.log_model(model2, \"model2\",  registered_model_name=\"stock_prediction\")\n",
    "#autolog 종료\n",
    "    mlflow.keras.autolog(disable = True)"
   ]
  },
  {
   "cell_type": "markdown",
   "metadata": {
    "id": "tR4RYHNHgo-r"
   },
   "source": [
    "### mlflow 서버 실행\n",
    "\n",
    "* 터미널을 열고\n",
    "* 경로 확인 : 현재 폴더 위치\n",
    "* 아래 명령어 실행  \n",
    "`mlflow server --backend-store-uri sqlite:///mlflow.db --default-artifact-root ./artifacts`"
   ]
  },
  {
   "cell_type": "markdown",
   "metadata": {
    "id": "4jsM92I29nhV"
   },
   "source": [
    "### 학습 곡선"
   ]
  },
  {
   "cell_type": "code",
   "execution_count": 48,
   "metadata": {
    "id": "wRqO31sW9hnM"
   },
   "outputs": [
    {
     "data": {
      "image/png": "[encoded data removed]",
      "text/plain": [
       "<Figure size 1000x600 with 1 Axes>"
      ]
     },
     "metadata": {},
     "output_type": "display_data"
    }
   ],
   "source": [
    "dl_history_plot(history)"
   ]
  },
  {
   "cell_type": "markdown",
   "metadata": {},
   "source": []
  }
 ],
 "metadata": {
  "colab": {
   "authorship_tag": "ABX9TyNjkcTx3QV+WnnlQC0hIoDT",
   "provenance": []
  },
  "kernelspec": {
   "display_name": "Python 3",
   "name": "python3"
  },
  "language_info": {
   "codemirror_mode": {
    "name": "ipython",
    "version": 3
   },
   "file_extension": ".py",
   "mimetype": "text/x-python",
   "name": "python",
   "nbconvert_exporter": "python",
   "pygments_lexer": "ipython3",
   "version": "3.10.11"
  }
 },
 "nbformat": 4,
 "nbformat_minor": 0
}
